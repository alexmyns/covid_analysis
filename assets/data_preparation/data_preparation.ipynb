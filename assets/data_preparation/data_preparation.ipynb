{
 "cells": [
  {
   "cell_type": "code",
   "execution_count": 1,
   "metadata": {
    "collapsed": true
   },
   "outputs": [],
   "source": [
    "import pandas as pd\n",
    "import numpy as np"
   ]
  },
  {
   "cell_type": "code",
   "execution_count": 2,
   "outputs": [
    {
     "data": {
      "text/plain": "  Country/Region      Continent  Population  TotalCases  NewCases  \\\n0            USA  North America   334805269   107162537       NaN   \n1          India           Asia  1406631776    44992293       NaN   \n2         France         Europe    65584518    40105208       NaN   \n3        Germany         Europe    83883596    38428685       NaN   \n4         Brazil  South America   215353593    37625916       NaN   \n\n   TotalDeaths  NewDeaths  TotalRecovered  NewRecovered  ActiveCases  \\\n0    1166331.0        NaN     105293510.0           NaN     702696.0   \n1     531886.0        NaN      44457720.0           NaN       2687.0   \n2     167424.0        NaN      39887439.0           NaN      50345.0   \n3     174352.0        NaN      38240600.0           NaN      13733.0   \n4     703291.0        NaN      36249161.0           NaN     673464.0   \n\n   Serious,Critical  Tot Cases/1M pop  Deaths/1M pop    TotalTests  \\\n0             849.0            320074         3484.0  1.180473e+09   \n1               NaN             31986          378.0  9.307980e+08   \n2             869.0            611504         2553.0  2.714902e+08   \n3               NaN            458119         2078.0  1.223324e+08   \n4               NaN            174717         3266.0  6.377617e+07   \n\n   Tests/1M pop      WHO Region  \n0     3525848.0        Americas  \n1      661721.0  South-EastAsia  \n2     4139547.0          Europe  \n3     1458359.0          Europe  \n4      296146.0        Americas  ",
      "text/html": "<div>\n<style scoped>\n    .dataframe tbody tr th:only-of-type {\n        vertical-align: middle;\n    }\n\n    .dataframe tbody tr th {\n        vertical-align: top;\n    }\n\n    .dataframe thead th {\n        text-align: right;\n    }\n</style>\n<table border=\"1\" class=\"dataframe\">\n  <thead>\n    <tr style=\"text-align: right;\">\n      <th></th>\n      <th>Country/Region</th>\n      <th>Continent</th>\n      <th>Population</th>\n      <th>TotalCases</th>\n      <th>NewCases</th>\n      <th>TotalDeaths</th>\n      <th>NewDeaths</th>\n      <th>TotalRecovered</th>\n      <th>NewRecovered</th>\n      <th>ActiveCases</th>\n      <th>Serious,Critical</th>\n      <th>Tot Cases/1M pop</th>\n      <th>Deaths/1M pop</th>\n      <th>TotalTests</th>\n      <th>Tests/1M pop</th>\n      <th>WHO Region</th>\n    </tr>\n  </thead>\n  <tbody>\n    <tr>\n      <th>0</th>\n      <td>USA</td>\n      <td>North America</td>\n      <td>334805269</td>\n      <td>107162537</td>\n      <td>NaN</td>\n      <td>1166331.0</td>\n      <td>NaN</td>\n      <td>105293510.0</td>\n      <td>NaN</td>\n      <td>702696.0</td>\n      <td>849.0</td>\n      <td>320074</td>\n      <td>3484.0</td>\n      <td>1.180473e+09</td>\n      <td>3525848.0</td>\n      <td>Americas</td>\n    </tr>\n    <tr>\n      <th>1</th>\n      <td>India</td>\n      <td>Asia</td>\n      <td>1406631776</td>\n      <td>44992293</td>\n      <td>NaN</td>\n      <td>531886.0</td>\n      <td>NaN</td>\n      <td>44457720.0</td>\n      <td>NaN</td>\n      <td>2687.0</td>\n      <td>NaN</td>\n      <td>31986</td>\n      <td>378.0</td>\n      <td>9.307980e+08</td>\n      <td>661721.0</td>\n      <td>South-EastAsia</td>\n    </tr>\n    <tr>\n      <th>2</th>\n      <td>France</td>\n      <td>Europe</td>\n      <td>65584518</td>\n      <td>40105208</td>\n      <td>NaN</td>\n      <td>167424.0</td>\n      <td>NaN</td>\n      <td>39887439.0</td>\n      <td>NaN</td>\n      <td>50345.0</td>\n      <td>869.0</td>\n      <td>611504</td>\n      <td>2553.0</td>\n      <td>2.714902e+08</td>\n      <td>4139547.0</td>\n      <td>Europe</td>\n    </tr>\n    <tr>\n      <th>3</th>\n      <td>Germany</td>\n      <td>Europe</td>\n      <td>83883596</td>\n      <td>38428685</td>\n      <td>NaN</td>\n      <td>174352.0</td>\n      <td>NaN</td>\n      <td>38240600.0</td>\n      <td>NaN</td>\n      <td>13733.0</td>\n      <td>NaN</td>\n      <td>458119</td>\n      <td>2078.0</td>\n      <td>1.223324e+08</td>\n      <td>1458359.0</td>\n      <td>Europe</td>\n    </tr>\n    <tr>\n      <th>4</th>\n      <td>Brazil</td>\n      <td>South America</td>\n      <td>215353593</td>\n      <td>37625916</td>\n      <td>NaN</td>\n      <td>703291.0</td>\n      <td>NaN</td>\n      <td>36249161.0</td>\n      <td>NaN</td>\n      <td>673464.0</td>\n      <td>NaN</td>\n      <td>174717</td>\n      <td>3266.0</td>\n      <td>6.377617e+07</td>\n      <td>296146.0</td>\n      <td>Americas</td>\n    </tr>\n  </tbody>\n</table>\n</div>"
     },
     "execution_count": 2,
     "metadata": {},
     "output_type": "execute_result"
    }
   ],
   "source": [
    "df = pd.read_csv('./../../dataset/covid.csv')\n",
    "df.head()"
   ],
   "metadata": {
    "collapsed": false,
    "pycharm": {
     "name": "#%%\n"
    }
   }
  },
  {
   "cell_type": "code",
   "execution_count": 3,
   "outputs": [
    {
     "data": {
      "text/plain": "Country/Region        0\nContinent             0\nPopulation            0\nTotalCases            0\nNewCases            222\nTotalDeaths           4\nNewDeaths           225\nTotalRecovered       21\nNewRecovered        215\nActiveCases          20\nSerious,Critical     99\nTot Cases/1M pop      0\nDeaths/1M pop         4\nTotalTests           13\nTests/1M pop         13\nWHO Region           31\ndtype: int64"
     },
     "execution_count": 3,
     "metadata": {},
     "output_type": "execute_result"
    }
   ],
   "source": [
    "# check if there any NaN values\n",
    "df.isnull().sum()"
   ],
   "metadata": {
    "collapsed": false,
    "pycharm": {
     "name": "#%%\n"
    }
   }
  },
  {
   "cell_type": "code",
   "execution_count": 4,
   "outputs": [],
   "source": [
    "# Fill NA values with 0\n",
    "df = df.fillna(1)"
   ],
   "metadata": {
    "collapsed": false,
    "pycharm": {
     "name": "#%%\n"
    }
   }
  },
  {
   "cell_type": "code",
   "execution_count": 6,
   "outputs": [],
   "source": [
    "# Save as a csv file\n",
    "df.to_csv('./../../dataset/covid.csv', index=False)"
   ],
   "metadata": {
    "collapsed": false,
    "pycharm": {
     "name": "#%%\n"
    }
   }
  }
 ],
 "metadata": {
  "kernelspec": {
   "display_name": "Python 3",
   "language": "python",
   "name": "python3"
  },
  "language_info": {
   "codemirror_mode": {
    "name": "ipython",
    "version": 2
   },
   "file_extension": ".py",
   "mimetype": "text/x-python",
   "name": "python",
   "nbconvert_exporter": "python",
   "pygments_lexer": "ipython2",
   "version": "2.7.6"
  }
 },
 "nbformat": 4,
 "nbformat_minor": 0
}